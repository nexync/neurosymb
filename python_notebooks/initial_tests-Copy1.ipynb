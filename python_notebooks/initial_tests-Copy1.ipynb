{
 "cells": [
  {
   "cell_type": "code",
   "execution_count": 274,
   "metadata": {},
   "outputs": [],
   "source": [
    "from lnn import Model, Predicate, Variable, Variables, And, Or, Not, Predicates, Fact, Loss, Propositions, Implies, World, Variables\n",
    "import gym\n",
    "import numpy as np\n",
    "import torch"
   ]
  },
  {
   "cell_type": "code",
   "execution_count": 2,
   "metadata": {},
   "outputs": [],
   "source": [
    "env = gym.make(\"CartPole-v1\")"
   ]
  },
  {
   "cell_type": "code",
   "execution_count": null,
   "metadata": {},
   "outputs": [],
   "source": []
  },
  {
   "cell_type": "code",
   "execution_count": 85,
   "metadata": {},
   "outputs": [],
   "source": [
    "model = Model()\n",
    "\n",
    "p1, p2, p3 = Propositions(\"p1\", \"p2\", \"p3\")\n",
    "a1 = And(p1, p2)\n",
    "o1 = Or(p1, p2)\n",
    "a2 = And(a1, o1)\n",
    "i1 = Implies(a2, p3, world= World.AXIOM)"
   ]
  },
  {
   "cell_type": "code",
   "execution_count": 5,
   "metadata": {},
   "outputs": [
    {
     "name": "stdout",
     "output_type": "stream",
     "text": [
      "\n",
      "***************************************************************************\n",
      "                                LNN Model\n",
      "\n",
      "***************************************************************************\n"
     ]
    }
   ],
   "source": [
    "model.print()"
   ]
  },
  {
   "cell_type": "code",
   "execution_count": 6,
   "metadata": {},
   "outputs": [
    {
     "name": "stdout",
     "output_type": "stream",
     "text": [
      "\n",
      "***************************************************************************\n",
      "                                LNN Model\n",
      "\n",
      "AXIOM Implies: (((p1 ∧ p2) ∧ (p1 ∨ p2)) → p3)               TRUE (1.0, 1.0)\n",
      "params  α: 1.0,  β: 1.0,  w: [1. 1.]\n",
      "OPEN Proposition: p3                                        TRUE (1.0, 1.0)\n",
      "params  α: 1.0\n",
      "OPEN And: ((p1 ∧ p2) ∧ (p1 ∨ p2))                           TRUE (1.0, 1.0)\n",
      "params  α: 1.0,  β: 1.0,  w: [1. 1.]\n",
      "OPEN Or: (p1 ∨ p2)                                          TRUE (1.0, 1.0)\n",
      "params  α: 1.0,  β: 1.0,  w: [1. 1.]\n",
      "OPEN And: (p1 ∧ p2)                                         TRUE (1.0, 1.0)\n",
      "params  α: 1.0,  β: 1.0,  w: [1. 1.]\n",
      "OPEN Proposition: p2                                        TRUE (1.0, 1.0)\n",
      "params  α: 1.0\n",
      "OPEN Proposition: p1                                        TRUE (1.0, 1.0)\n",
      "params  α: 1.0\n",
      "***************************************************************************\n"
     ]
    }
   ],
   "source": [
    "model.add_knowledge(a1, a2, o1, i1)\n",
    "model.add_data({\n",
    "    p1: Fact.TRUE,\n",
    "    p2: Fact.TRUE\n",
    "})\n",
    "\n",
    "\n",
    "model.add_labels({\n",
    "    p3: Fact.FALSE\n",
    "})\n",
    "\n",
    "model.train(losses = [Loss.SUPERVISED])\n",
    "model.print(params = True)"
   ]
  },
  {
   "cell_type": "code",
   "execution_count": 46,
   "metadata": {},
   "outputs": [
    {
     "name": "stdout",
     "output_type": "stream",
     "text": [
      "\n",
      "***************************************************************************\n",
      "                                LNN Model\n",
      "\n",
      "OPEN And: (P1(0) ∧ P2(0)) \n",
      "params  α: 1.0,  β: 1.0,  w: [1. 1.]\n",
      "'1'                                                         TRUE (1.0, 1.0)\n",
      "'0'                                                         TRUE (1.0, 1.0)\n",
      "\n",
      "OPEN Predicate: P2 \n",
      "params  α: 1.0\n",
      "'1'                                                         TRUE (1.0, 1.0)\n",
      "'0'                                                         TRUE (1.0, 1.0)\n",
      "\n",
      "OPEN Predicate: P1 \n",
      "params  α: 1.0\n",
      "'0'                                                         TRUE (1.0, 1.0)\n",
      "'1'                                                         TRUE (1.0, 1.0)\n",
      "\n",
      "***************************************************************************\n"
     ]
    }
   ],
   "source": [
    "# construct the model from formulae\n",
    "model = Model()\n",
    "p1, p2 = Predicates(\"P1\", \"P2\")\n",
    "x, y = Variables(\"X\", \"Y\")\n",
    "\n",
    "a1 = And(p1(x), p2(x))\n",
    "model.add_knowledge(a1)\n",
    "# o1 = Or(p1(x), Not(p2(y)))\n",
    "# formulae = [a1, o1]\n",
    "# model.add_knowledge(*formulae, world=World.AXIOM)\n",
    "\n",
    "model.add_data({\n",
    "    p1: {\n",
    "        '0': Fact.TRUE,\n",
    "    },\n",
    "    p2: {\n",
    "        '1': Fact.TRUE\n",
    "    },\n",
    "    a1: {\n",
    "        '1': Fact.TRUE,\n",
    "        '0': Fact.TRUE\n",
    "    }\n",
    "})\n",
    "model.add_labels({\n",
    "    p1: {\n",
    "        '1': Fact.TRUE\n",
    "    },\n",
    "    p2: {\n",
    "        '0': Fact.FALSE\n",
    "    }\n",
    "})\n",
    "\n",
    "model.train(losses = [Loss.SUPERVISED, Loss.CONTRADICTION])\n",
    "model.print(params=True)"
   ]
  },
  {
   "cell_type": "code",
   "execution_count": 137,
   "metadata": {},
   "outputs": [
    {
     "name": "stdout",
     "output_type": "stream",
     "text": [
      "\n",
      "***************************************************************************\n",
      "                                LNN Model\n",
      "\n",
      "OPEN And: (P1(0) ∧ P2(0)) \n",
      "\n",
      "OPEN Predicate: P2 \n",
      "\n",
      "OPEN Predicate: P1 \n",
      "\n",
      "***************************************************************************\n"
     ]
    }
   ],
   "source": [
    "model.print()"
   ]
  },
  {
   "cell_type": "code",
   "execution_count": 128,
   "metadata": {},
   "outputs": [],
   "source": []
  },
  {
   "cell_type": "code",
   "execution_count": null,
   "metadata": {},
   "outputs": [],
   "source": []
  },
  {
   "cell_type": "code",
   "execution_count": 47,
   "metadata": {},
   "outputs": [
    {
     "data": {
      "text/plain": [
       "Box([-4.8000002e+00 -3.4028235e+38 -4.1887903e-01 -3.4028235e+38], [4.8000002e+00 3.4028235e+38 4.1887903e-01 3.4028235e+38], (4,), float32)"
      ]
     },
     "execution_count": 47,
     "metadata": {},
     "output_type": "execute_result"
    }
   ],
   "source": [
    "env.observation_space"
   ]
  },
  {
   "cell_type": "code",
   "execution_count": 61,
   "metadata": {
    "tags": []
   },
   "outputs": [
    {
     "name": "stdout",
     "output_type": "stream",
     "text": [
      "1.9889573 2.96616\n"
     ]
    }
   ],
   "source": [
    "maxvel = 0\n",
    "maxangvel = 0\n",
    "for i in range(100):\n",
    "    env.reset()\n",
    "    while True:\n",
    "        next_state, reward, done, _, _ = env.step(0)\n",
    "        if done:\n",
    "            break\n",
    "        if abs(next_state[1]) > maxvel:\n",
    "            maxvel = abs(next_state[1])\n",
    "        if abs(next_state[3]) > maxangvel:\n",
    "            maxangvel = abs(next_state[3])\n",
    "print(maxvel, maxangvel)"
   ]
  },
  {
   "cell_type": "code",
   "execution_count": 64,
   "metadata": {},
   "outputs": [],
   "source": [
    "velocities = np.linspace(-2, 2, 41)\n",
    "angvelocities = np.linspace(-3, 3, 61)\n",
    "pos = np.linspace(-1.2, 1.2, 25)\n",
    "ang = np.linspace(-0.2094395, 0.2094395, 25)"
   ]
  },
  {
   "cell_type": "code",
   "execution_count": 65,
   "metadata": {},
   "outputs": [],
   "source": [
    "model = Model()\n",
    "velocity_variables = []\n",
    "angvelocity_variables = []\n",
    "pos_variables = []\n",
    "ang_variables = []"
   ]
  },
  {
   "cell_type": "code",
   "execution_count": 66,
   "metadata": {},
   "outputs": [],
   "source": [
    "for i in range(41):\n",
    "  velocity_variables.append(Predicate(\"vel_\"+str(i+1)))\n",
    "for i in range(61):\n",
    "  angvelocity_variables.append(Predicate(\"angvel_\"+str(i+1)))\n",
    "for i in range(25):\n",
    "  pos_variables.append(Predicate(\"pos_\"+str(i+1)))\n",
    "for i in range(25):\n",
    "  ang_variables.append(Predicate(\"ang_\"+str(i+1)))"
   ]
  },
  {
   "cell_type": "code",
   "execution_count": 130,
   "metadata": {},
   "outputs": [
    {
     "name": "stdout",
     "output_type": "stream",
     "text": [
      "p_1 p_2 p_3 p_4 p_5 p_6 p_7 p_8 p_9 p_10\n"
     ]
    },
    {
     "ename": "SyntaxError",
     "evalue": "starred assignment target must be in a list or tuple (2965991908.py, line 7)",
     "output_type": "error",
     "traceback": [
      "\u001b[1;36m  Cell \u001b[1;32mIn[130], line 7\u001b[1;36m\u001b[0m\n\u001b[1;33m    *names = predicate_list\u001b[0m\n\u001b[1;37m    ^\u001b[0m\n\u001b[1;31mSyntaxError\u001b[0m\u001b[1;31m:\u001b[0m starred assignment target must be in a list or tuple\n"
     ]
    }
   ],
   "source": []
  },
  {
   "cell_type": "code",
   "execution_count": 453,
   "metadata": {},
   "outputs": [],
   "source": [
    "def create_predicates(num_bins):\n",
    "    predicate_list = []\n",
    "    for i in range(num_bins):\n",
    "        predicate_list.append(Predicate(\"p_\" +str(i+1)))\n",
    "    return predicate_list # [\"p_1\", \"p_2\", ...]\n",
    "\n",
    "def create_pred_names(num_bins):\n",
    "    return [\"p_\"+str(i+1) for i in range(num_bins)] # [\"p_1\", \"p_2\", ...]\n",
    "\n",
    "def create_n_ary_and(num_nodes, predicate_list):\n",
    "    and_list = []\n",
    "    for i in range(num_nodes):\n",
    "        and_list.append(And(*predicate_list))\n",
    "    return and_list\n",
    "\n",
    "def create_n_ary_or(and_list):\n",
    "    return Or(*and_list)\n",
    "\n",
    "def create_lnn(num_bins, num_nodes):\n",
    "    model = Model()\n",
    "#     preds = create_predicates(num_bins)\n",
    "    names = create_pred_names(num_bins)\n",
    "    preds = model.add_predicates(1, *names)\n",
    "    and_nodes = create_n_ary_and(num_nodes, preds)\n",
    "    or_node = create_n_ary_or(and_nodes)\n",
    "    model.add_knowledge(*and_nodes)\n",
    "    out = model.set_query(or_node)\n",
    "    \n",
    "    return model, preds, or_node"
   ]
  },
  {
   "cell_type": "code",
   "execution_count": 510,
   "metadata": {},
   "outputs": [],
   "source": [
    "def create_predicates(num_bins):\n",
    "    predicate_list = []\n",
    "    for i in range(num_bins):\n",
    "        predicate_list.append(Predicate(\"p_\" +str(i+1)))\n",
    "    return predicate_list # [\"p_1\", \"p_2\", ...]\n",
    "\n",
    "def create_pred_names(num_bins):\n",
    "    return [\"p_\"+str(i+1) for i in range(num_bins)] # [\"p_1\", \"p_2\", ...]\n",
    "\n",
    "def create_n_ary_and(num_nodes, predicate_list):\n",
    "    and_list = []\n",
    "    for i in range(num_nodes):\n",
    "        and_list.append(And(*predicate_list))\n",
    "    return and_list\n",
    "\n",
    "def create_n_ary_or(and_list):\n",
    "    return Or(*and_list)\n",
    "\n",
    "def create_lnn(num_bins, num_nodes):\n",
    "    model = Model()\n",
    "    preds = create_predicates(num_bins)\n",
    "#     names = create_pred_names(num_bins)\n",
    "#     preds = model.add_predicates(1, *names)\n",
    "    and_nodes = create_n_ary_and(num_nodes, preds)\n",
    "    or_node = create_n_ary_or(and_nodes)\n",
    "    model.add_knowledge(*and_nodes)\n",
    "    out = model.set_query(or_node)\n",
    "    \n",
    "    return model, preds, or_node"
   ]
  },
  {
   "cell_type": "code",
   "execution_count": 68,
   "metadata": {},
   "outputs": [],
   "source": [
    "state = env.reset()"
   ]
  },
  {
   "cell_type": "code",
   "execution_count": 72,
   "metadata": {},
   "outputs": [
    {
     "data": {
      "text/plain": [
       "torch.Size([4])"
      ]
     },
     "execution_count": 72,
     "metadata": {},
     "output_type": "execute_result"
    }
   ],
   "source": [
    "torch.tensor(state[0]).shape"
   ]
  },
  {
   "cell_type": "code",
   "execution_count": null,
   "metadata": {},
   "outputs": [],
   "source": [
    "def env_2_fol(obs):\n",
    "    assert obs.shape = "
   ]
  },
  {
   "cell_type": "code",
   "execution_count": 514,
   "metadata": {},
   "outputs": [
    {
     "name": "stdout",
     "output_type": "stream",
     "text": [
      "\n",
      "***************************************************************************\n",
      "                                LNN Model\n",
      "\n",
      "OPEN Or: ((p_1(0) ∧ p_2(1) ∧ p_3(2)) ∨ (p_1(0) ∧ p_2(1) ∧ p_3(2))) \n",
      "params  α: 1.0,  β: 1.0,  w: [1. 1.]\n",
      "('0', '0', '0')                                            FALSE (0.0, 0.0)\n",
      "('0', '0', '1')                                            FALSE (0.0, 0.0)\n",
      "('1', '1', '1')                                            FALSE (0.0, 0.0)\n",
      "('1', '0', '1')                                            FALSE (0.0, 0.0)\n",
      "('0', '1', '1')                                            FALSE (0.0, 0.0)\n",
      "('0', '1', '0')                                            FALSE (0.0, 0.0)\n",
      "('1', '0', '0')                                            FALSE (0.0, 0.0)\n",
      "('1', '1', '0')                                            FALSE (0.0, 0.0)\n",
      "\n",
      "OPEN And: (p_1(0) ∧ p_2(1) ∧ p_3(2)) \n",
      "params  α: 1.0,  β: 1.0,  w: [1.   0.95 0.95]\n",
      "('0', '0', '0')                                            FALSE (0.0, 0.0)\n",
      "('0', '0', '1')                                            FALSE (0.0, 0.0)\n",
      "('1', '1', '1')                                            FALSE (0.0, 0.0)\n",
      "('1', '0', '1')                                            FALSE (0.0, 0.0)\n",
      "('0', '1', '1')                                            FALSE (0.0, 0.0)\n",
      "('0', '1', '0')                                            FALSE (0.0, 0.0)\n",
      "('1', '0', '0')                                            FALSE (0.0, 0.0)\n",
      "('1', '1', '0')                                            FALSE (0.0, 0.0)\n",
      "\n",
      "OPEN And: (p_1(0) ∧ p_2(1) ∧ p_3(2)) \n",
      "params  α: 1.0,  β: 1.0,  w: [1.   0.95 0.95]\n",
      "('0', '0', '0')                                            FALSE (0.0, 0.0)\n",
      "('0', '0', '1')                                            FALSE (0.0, 0.0)\n",
      "('1', '1', '1')                                            FALSE (0.0, 0.0)\n",
      "('1', '0', '1')                                            FALSE (0.0, 0.0)\n",
      "('0', '1', '1')                                            FALSE (0.0, 0.0)\n",
      "('0', '1', '0')                                            FALSE (0.0, 0.0)\n",
      "('1', '0', '0')                                            FALSE (0.0, 0.0)\n",
      "('1', '1', '0')                                            FALSE (0.0, 0.0)\n",
      "\n",
      "OPEN Predicate: p_3 \n",
      "params  α: 1.0\n",
      "'0'                                                        FALSE (0.0, 0.0)\n",
      "'1'                                                        FALSE (0.0, 0.0)\n",
      "\n",
      "OPEN Predicate: p_2 \n",
      "params  α: 1.0\n",
      "'0'                                                        FALSE (0.0, 0.0)\n",
      "'1'                                                        FALSE (0.0, 0.0)\n",
      "\n",
      "OPEN Predicate: p_1 \n",
      "params  α: 1.0\n",
      "'0'                                                         TRUE (1.0, 1.0)\n",
      "'1'                                                         TRUE (1.0, 1.0)\n",
      "\n",
      "***************************************************************************\n"
     ]
    },
    {
     "data": {
      "text/plain": [
       "tensor([[0., 0.],\n",
       "        [0., 0.],\n",
       "        [0., 0.],\n",
       "        [0., 0.],\n",
       "        [0., 0.],\n",
       "        [0., 0.],\n",
       "        [0., 0.],\n",
       "        [0., 0.]], grad_fn=<CopySlices>)"
      ]
     },
     "execution_count": 514,
     "metadata": {},
     "output_type": "execute_result"
    }
   ],
   "source": [
    "n_bins=3\n",
    "n_ands=2\n",
    "left = Model()\n",
    "left, preds, out = create_lnn(n_bins, n_ands)\n",
    "# print(\"out:\", out)\n",
    "# left.print()\n",
    "\n",
    "d = dict(zip(preds, [{'0':Fact.FALSE} for _ in range(n_bins)]))\n",
    "left.add_data({**d})\n",
    "zeros = tuple('0' for _ in range(n_bins))\n",
    "left.add_data({preds[0]:{'0':Fact.TRUE}})\n",
    "\n",
    "d1 = dict(zip(preds, [{'1':Fact.FALSE} for _ in range(n_bins)]))\n",
    "left.add_data({**d1})\n",
    "ones = tuple('1' for _ in range(n_bins))\n",
    "left.add_data({preds[0]:{'1':Fact.TRUE}})\n",
    "\n",
    "left.add_labels({out: {zeros:Fact.TRUE, ones:Fact.TRUE}})\n",
    "# left.print(params=True)\n",
    "left.train(losses=[Loss.SUPERVISED], epochs=1)\n",
    "left.print(params=True)\n",
    "out.get_data()\n",
    "# print(*d.keys())"
   ]
  },
  {
   "cell_type": "code",
   "execution_count": 491,
   "metadata": {},
   "outputs": [
    {
     "name": "stdout",
     "output_type": "stream",
     "text": [
      "\n",
      "***************************************************************************\n",
      "                                LNN Model\n",
      "\n",
      "OPEN Or: ((p_1(0) ∧ p_2(1) ∧ p_3(2)) ∨ (p_1(0) ∧ p_2(1) ∧ p_3(2))) \n",
      "params  α: 1.0,  β: 1.0,  w: [1. 1.]\n",
      "('0', '0', '0')                                            FALSE (0.0, 0.0)\n",
      "\n",
      "OPEN And: (p_1(0) ∧ p_2(1) ∧ p_3(2)) \n",
      "params  α: 1.0,  β: 1.0,  w: [1.   0.95 0.95]\n",
      "('0', '0', '0')                                            FALSE (0.0, 0.0)\n",
      "\n",
      "OPEN And: (p_1(0) ∧ p_2(1) ∧ p_3(2)) \n",
      "params  α: 1.0,  β: 1.0,  w: [1.   0.95 0.95]\n",
      "('0', '0', '0')                                            FALSE (0.0, 0.0)\n",
      "\n",
      "OPEN Predicate: p_3 \n",
      "params  α: 1.0\n",
      "'0'                                                        FALSE (0.0, 0.0)\n",
      "\n",
      "OPEN Predicate: p_2 \n",
      "params  α: 1.0\n",
      "'0'                                                        FALSE (0.0, 0.0)\n",
      "\n",
      "OPEN Predicate: p_1 \n",
      "params  α: 1.0\n",
      "'0'                                                         TRUE (1.0, 1.0)\n",
      "\n",
      "***************************************************************************\n"
     ]
    },
    {
     "data": {
      "text/plain": [
       "tensor([[0., 0.]], grad_fn=<IndexBackward0>)"
      ]
     },
     "execution_count": 491,
     "metadata": {},
     "output_type": "execute_result"
    }
   ],
   "source": [
    "left.flush()\n",
    "left.add_data({**d})\n",
    "left.add_data({preds[0]:{'0':Fact.TRUE}})\n",
    "left.add_labels({out: {zeros:Fact.TRUE}})\n",
    "# left.print(params=True)\n",
    "left.train(losses=[Loss.SUPERVISED], epochs=1)\n",
    "left.print(params=True)\n",
    "out.get_data(zeros)"
   ]
  },
  {
   "cell_type": "code",
   "execution_count": 518,
   "metadata": {},
   "outputs": [
    {
     "name": "stdout",
     "output_type": "stream",
     "text": [
      "\n",
      "***************************************************************************\n",
      "                                LNN Model\n",
      "\n",
      "OPEN Or: ((p_1(0) ∧ p_2(1) ∧ p_3(2)) ∨ (p_1(0) ∧ p_2(1) ∧ p_3(2))) \n",
      "params  α: 1.0,  β: 1.0,  w: [1. 1.]\n",
      "('0', '0', '0')                                          UNKNOWN (0.0, 1.0)\n",
      "('0', '0', '1')                                          UNKNOWN (0.0, 1.0)\n",
      "('1', '1', '1')                                          UNKNOWN (0.0, 1.0)\n",
      "('1', '0', '1')                                          UNKNOWN (0.0, 1.0)\n",
      "('0', '1', '1')                                          UNKNOWN (0.0, 1.0)\n",
      "('0', '1', '0')                                          UNKNOWN (0.0, 1.0)\n",
      "('1', '0', '0')                                          UNKNOWN (0.0, 1.0)\n",
      "('1', '1', '0')                                          UNKNOWN (0.0, 1.0)\n",
      "\n",
      "OPEN And: (p_1(0) ∧ p_2(1) ∧ p_3(2)) \n",
      "params  α: 1.0,  β: 1.0,  w: [1.   0.95 0.95]\n",
      "('0', '0', '0')                                          UNKNOWN (0.0, 1.0)\n",
      "('0', '0', '1')                                          UNKNOWN (0.0, 1.0)\n",
      "('1', '1', '1')                                          UNKNOWN (0.0, 1.0)\n",
      "('1', '0', '1')                                          UNKNOWN (0.0, 1.0)\n",
      "('0', '1', '1')                                          UNKNOWN (0.0, 1.0)\n",
      "('0', '1', '0')                                          UNKNOWN (0.0, 1.0)\n",
      "('1', '0', '0')                                          UNKNOWN (0.0, 1.0)\n",
      "('1', '1', '0')                                          UNKNOWN (0.0, 1.0)\n",
      "\n",
      "OPEN And: (p_1(0) ∧ p_2(1) ∧ p_3(2)) \n",
      "params  α: 1.0,  β: 1.0,  w: [1.   0.95 0.95]\n",
      "('0', '0', '0')                                          UNKNOWN (0.0, 1.0)\n",
      "('0', '0', '1')                                          UNKNOWN (0.0, 1.0)\n",
      "('1', '1', '1')                                          UNKNOWN (0.0, 1.0)\n",
      "('1', '0', '1')                                          UNKNOWN (0.0, 1.0)\n",
      "('0', '1', '1')                                          UNKNOWN (0.0, 1.0)\n",
      "('0', '1', '0')                                          UNKNOWN (0.0, 1.0)\n",
      "('1', '0', '0')                                          UNKNOWN (0.0, 1.0)\n",
      "('1', '1', '0')                                          UNKNOWN (0.0, 1.0)\n",
      "\n",
      "OPEN Predicate: p_3 \n",
      "params  α: 1.0\n",
      "'0'                                                      UNKNOWN (0.0, 1.0)\n",
      "'1'                                                      UNKNOWN (0.0, 1.0)\n",
      "\n",
      "OPEN Predicate: p_2 \n",
      "params  α: 1.0\n",
      "'0'                                                      UNKNOWN (0.0, 1.0)\n",
      "'1'                                                      UNKNOWN (0.0, 1.0)\n",
      "\n",
      "OPEN Predicate: p_1 \n",
      "params  α: 1.0\n",
      "'0'                                                      UNKNOWN (0.0, 1.0)\n",
      "'1'                                                      UNKNOWN (0.0, 1.0)\n",
      "\n",
      "***************************************************************************\n"
     ]
    }
   ],
   "source": [
    "left.flush()\n",
    "left.print(params=True)"
   ]
  },
  {
   "cell_type": "code",
   "execution_count": 489,
   "metadata": {},
   "outputs": [
    {
     "name": "stdout",
     "output_type": "stream",
     "text": [
      "\n",
      "***************************************************************************\n",
      "                                LNN Model\n",
      "\n",
      "OPEN Or: ((p_1(0) ∧ p_2(1) ∧ p_3(2)) ∨ (p_1(0) ∧ p_2(1) ∧ p_3(2))) \n",
      "params  α: 1.0,  β: 1.0,  w: [1. 1.]\n",
      "('0', '0', '0')                                            FALSE (0.0, 0.0)\n",
      "\n",
      "OPEN And: (p_1(0) ∧ p_2(1) ∧ p_3(2)) \n",
      "params  α: 1.0,  β: 1.0,  w: [0.65 0.75 0.7 ]\n",
      "('0', '0', '0')                                            FALSE (0.0, 0.0)\n",
      "\n",
      "OPEN And: (p_1(0) ∧ p_2(1) ∧ p_3(2)) \n",
      "params  α: 1.0,  β: 1.0,  w: [0.65 0.75 0.7 ]\n",
      "('0', '0', '0')                                            FALSE (0.0, 0.0)\n",
      "\n",
      "OPEN Predicate: p_3 \n",
      "params  α: 1.0\n",
      "'0'                                                        FALSE (0.0, 0.0)\n",
      "\n",
      "OPEN Predicate: p_2 \n",
      "params  α: 1.0\n",
      "'0'                                                         TRUE (1.0, 1.0)\n",
      "\n",
      "OPEN Predicate: p_1 \n",
      "params  α: 1.0\n",
      "'0'                                                        FALSE (0.0, 0.0)\n",
      "\n",
      "***************************************************************************\n"
     ]
    }
   ],
   "source": [
    "left.flush()\n",
    "# left.print(params=True)\n",
    "left.add_data({**d})\n",
    "left.add_data({preds[1]:{'0':Fact.TRUE}})\n",
    "left.infer()\n",
    "# left.print(params=True)\n",
    "left.add_labels({out: {zeros:Fact.TRUE}})\n",
    "left.train(losses=[Loss.SUPERVISED], epochs=1)\n",
    "left.print(params=True)"
   ]
  },
  {
   "cell_type": "code",
   "execution_count": 485,
   "metadata": {},
   "outputs": [
    {
     "name": "stdout",
     "output_type": "stream",
     "text": [
      "\n",
      "***************************************************************************\n",
      "                                LNN Model\n",
      "\n",
      "OPEN Or: ((p_1(0) ∧ p_2(1) ∧ p_3(2)) ∨ (p_1(0) ∧ p_2(1) ∧ p_3(2))) \n",
      "params  α: 1.0,  β: 1.0,  w: [1. 1.]\n",
      "('0', '0', '0')                                            FALSE (0.0, 0.0)\n",
      "\n",
      "OPEN And: (p_1(0) ∧ p_2(1) ∧ p_3(2)) \n",
      "params  α: 1.0,  β: 1.0,  w: [0.8 0.8 0.9]\n",
      "('0', '0', '0')                                            FALSE (0.0, 0.0)\n",
      "\n",
      "OPEN And: (p_1(0) ∧ p_2(1) ∧ p_3(2)) \n",
      "params  α: 1.0,  β: 1.0,  w: [0.8 0.8 0.9]\n",
      "('0', '0', '0')                                            FALSE (0.0, 0.0)\n",
      "\n",
      "OPEN Predicate: p_3 \n",
      "params  α: 1.0\n",
      "'0'                                                         TRUE (1.0, 1.0)\n",
      "\n",
      "OPEN Predicate: p_2 \n",
      "params  α: 1.0\n",
      "'0'                                                        FALSE (0.0, 0.0)\n",
      "\n",
      "OPEN Predicate: p_1 \n",
      "params  α: 1.0\n",
      "'0'                                                        FALSE (0.0, 0.0)\n",
      "\n",
      "***************************************************************************\n"
     ]
    }
   ],
   "source": [
    "left.flush()\n",
    "# left.print(params=True)\n",
    "left.add_data({**d})\n",
    "left.add_data({preds[2]:{'0':Fact.TRUE}})\n",
    "left.infer()\n",
    "# left.print(params=True)\n",
    "left.add_labels({out: {zeros:Fact.TRUE}})\n",
    "left.train(losses=[Loss.SUPERVISED], epochs=1)\n",
    "left.print(params=True)"
   ]
  },
  {
   "cell_type": "code",
   "execution_count": 93,
   "metadata": {},
   "outputs": [
    {
     "name": "stdout",
     "output_type": "stream",
     "text": [
      "None\n"
     ]
    }
   ],
   "source": [
    "print(model.infer_query())"
   ]
  },
  {
   "cell_type": "code",
   "execution_count": 180,
   "metadata": {},
   "outputs": [],
   "source": [
    "test = create_predicates(10)"
   ]
  },
  {
   "cell_type": "code",
   "execution_count": 186,
   "metadata": {},
   "outputs": [
    {
     "data": {
      "text/plain": [
       "<lnn.symbolic.logic.n_ary_neuron.And at 0x1836dd306d0>"
      ]
     },
     "execution_count": 186,
     "metadata": {},
     "output_type": "execute_result"
    }
   ],
   "source": [
    "And(*test)"
   ]
  }
 ],
 "metadata": {
  "kernelspec": {
   "display_name": "Python 3 (ipykernel)",
   "language": "python",
   "name": "python3"
  },
  "language_info": {
   "codemirror_mode": {
    "name": "ipython",
    "version": 3
   },
   "file_extension": ".py",
   "mimetype": "text/x-python",
   "name": "python",
   "nbconvert_exporter": "python",
   "pygments_lexer": "ipython3",
   "version": "3.10.8"
  },
  "vscode": {
   "interpreter": {
    "hash": "062d995d26e67c4332b6a2768f2e0b009e9a42fa9ff300fd46ce3432b7193fb5"
   }
  }
 },
 "nbformat": 4,
 "nbformat_minor": 4
}
