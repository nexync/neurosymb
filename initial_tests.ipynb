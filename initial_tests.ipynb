{
 "cells": [
  {
   "cell_type": "code",
   "execution_count": 92,
   "metadata": {},
   "outputs": [],
   "source": [
    "from lnn import Model, Predicates, Variable, And, Or\n",
    "import torch.nn as nn\n",
    "import gym\n",
    "import numpy as np"
   ]
  },
  {
   "cell_type": "code",
   "execution_count": 26,
   "metadata": {},
   "outputs": [],
   "source": [
    "env = gym.make(\"CartPole-v1\")"
   ]
  },
  {
   "cell_type": "code",
   "execution_count": 30,
   "metadata": {},
   "outputs": [
    {
     "data": {
      "text/plain": [
       "Box([-4.8000002e+00 -3.4028235e+38 -4.1887903e-01 -3.4028235e+38], [4.8000002e+00 3.4028235e+38 4.1887903e-01 3.4028235e+38], (4,), float32)"
      ]
     },
     "execution_count": 30,
     "metadata": {},
     "output_type": "execute_result"
    }
   ],
   "source": [
    "env.observation_space"
   ]
  },
  {
   "cell_type": "code",
   "execution_count": 77,
   "metadata": {
    "tags": []
   },
   "outputs": [
    {
     "name": "stdout",
     "output_type": "stream",
     "text": [
      "1.9563706 2.9683142\n"
     ]
    }
   ],
   "source": [
    "maxvel = 0\n",
    "maxangvel = 0\n",
    "for i in range(100):\n",
    "    env.reset()\n",
    "    while True:\n",
    "        next_state, reward, done, _ = env.step(0)\n",
    "        if done:\n",
    "            break\n",
    "        if abs(next_state[1]) > maxvel:\n",
    "            maxvel = abs(next_state[1])\n",
    "        if abs(next_state[3]) > maxangvel:\n",
    "            maxangvel = abs(next_state[3])\n",
    "print(maxvel, maxangvel)"
   ]
  },
  {
   "cell_type": "code",
   "execution_count": null,
   "metadata": {},
   "outputs": [],
   "source": []
  },
  {
   "cell_type": "code",
   "execution_count": 83,
   "metadata": {},
   "outputs": [],
   "source": [
    "velocities = np.linspace(-2, 2, 41)\n",
    "angvelocities = np.linspace(-3, 3, 61)"
   ]
  },
  {
   "cell_type": "code",
   "execution_count": 85,
   "metadata": {},
   "outputs": [],
   "source": [
    "pos = np.linspace(-1.2, 1.2, 25)"
   ]
  },
  {
   "cell_type": "code",
   "execution_count": 93,
   "metadata": {},
   "outputs": [],
   "source": [
    "am = Variable('a')"
   ]
  },
  {
   "cell_type": "code",
   "execution_count": null,
   "metadata": {},
   "outputs": [],
   "source": []
  }
 ],
 "metadata": {
  "kernelspec": {
   "display_name": "Python 3 (ipykernel)",
   "language": "python",
   "name": "python3"
  },
  "language_info": {
   "codemirror_mode": {
    "name": "ipython",
    "version": 3
   },
   "file_extension": ".py",
   "mimetype": "text/x-python",
   "name": "python",
   "nbconvert_exporter": "python",
   "pygments_lexer": "ipython3",
   "version": "3.10.6"
  },
  "vscode": {
   "interpreter": {
    "hash": "485ac74c0b2c0c29bdc4a85350329fba24a8b626c130ffae8fdc15f65cd2a06c"
   }
  }
 },
 "nbformat": 4,
 "nbformat_minor": 4
}
