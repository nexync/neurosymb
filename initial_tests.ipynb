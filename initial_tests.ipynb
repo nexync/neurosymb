{
 "cells": [
  {
   "cell_type": "code",
   "execution_count": 27,
   "metadata": {},
   "outputs": [],
   "source": [
    "from lnn import Model, Predicate, Variable, And, Or, Predicates, Fact, Loss, Propositions, Implies, World, Variables\n",
    "import torch.nn as nn\n",
    "import gym\n",
    "import numpy as np\n",
    "import torch\n",
    "import collections"
   ]
  },
  {
   "cell_type": "code",
   "execution_count": 33,
   "metadata": {},
   "outputs": [],
   "source": [
    "Observation = collections.namedtuple(\"Observation\", (\"Position\", \"Velocity\", \"Angle\", \"AngVelocity\"))"
   ]
  },
  {
   "cell_type": "code",
   "execution_count": 2,
   "metadata": {},
   "outputs": [],
   "source": [
    "env = gym.make(\"CartPole-v1\")"
   ]
  },
  {
   "cell_type": "code",
   "execution_count": 87,
   "metadata": {},
   "outputs": [],
   "source": [
    "model = Model()\n",
    "\n",
    "p1, p2, p3 = Propositions(\"p1\", \"p2\", \"p3\")\n",
    "a1 = And(p1, p2)\n",
    "o1 = Or(p1, p2)\n",
    "a2 = And(a1, o1)\n",
    "i1 = Implies(a2, p3, world= World.AXIOM)\n",
    "\n",
    "model.add_knowledge(a1, a2, o1, i1)\n",
    "model.add_data({\n",
    "    p1: Fact.TRUE,\n",
    "    p2: Fact.TRUE\n",
    "})\n",
    "\n",
    "\n",
    "model.add_labels({\n",
    "    p3: Fact.FALSE\n",
    "})\n",
    "\n",
    "model.train(losses = [Loss.SUPERVISED])\n",
    "model.print(params = True)"
   ]
  },
  {
   "cell_type": "code",
   "execution_count": 174,
   "metadata": {},
   "outputs": [
    {
     "name": "stdout",
     "output_type": "stream",
     "text": [
      "\n",
      "***************************************************************************\n",
      "                                LNN Model\n",
      "\n",
      "OPEN And: (P1(0) ∧ P2(0) ∧ P3(0)) \n",
      "params  α: 1.0,  β: 1.0,  w: [0. 1. 0.]\n",
      "'0'                                                         TRUE (1.0, 1.0)\n",
      "'1'                                                         TRUE (1.0, 1.0)\n",
      "\n",
      "OPEN Predicate: P3 \n",
      "params  α: 1.0\n",
      "'0'                                                         TRUE (1.0, 1.0)\n",
      "'1'                                                        FALSE (0.0, 0.0)\n",
      "\n",
      "OPEN Predicate: P2 \n",
      "params  α: 1.0\n",
      "'0'                                                         TRUE (1.0, 1.0)\n",
      "'1'                                                         TRUE (1.0, 1.0)\n",
      "\n",
      "OPEN Predicate: P1 \n",
      "params  α: 1.0\n",
      "'0'                                                        FALSE (0.0, 0.0)\n",
      "'1'                                                        FALSE (0.0, 0.0)\n",
      "\n",
      "***************************************************************************\n"
     ]
    }
   ],
   "source": [
    "##HOW TO TRAIN MODEL\n",
    "model = Model()\n",
    "p1, p2, p3 = Predicates(\"P1\", \"P2\", \"P3\")\n",
    "x = Variable(\"X\")\n",
    "\n",
    "a1 = And(p1(x), p2(x), p3(x))\n",
    "model.add_knowledge(a1)\n",
    "\n",
    "model.add_data({\n",
    "    p1: {\n",
    "        '0': Fact.FALSE,\n",
    "        '1': Fact.FALSE\n",
    "    },\n",
    "    p2: {\n",
    "        '0': Fact.TRUE,\n",
    "        '1': Fact.TRUE\n",
    "    },\n",
    "    p3: {\n",
    "        '0': Fact.TRUE,\n",
    "        '1': Fact.FALSE\n",
    "    }\n",
    "})\n",
    "model.add_labels({\n",
    "    a1: {\n",
    "        '0': Fact.TRUE,\n",
    "        '1': Fact.TRUE\n",
    "    }\n",
    "})\n",
    "\n",
    "model.train(losses = [Loss.SUPERVISED])\n",
    "model.print(params=True)\n",
    "\n",
    "\n"
   ]
  },
  {
   "cell_type": "code",
   "execution_count": 137,
   "metadata": {},
   "outputs": [
    {
     "name": "stdout",
     "output_type": "stream",
     "text": [
      "\n",
      "***************************************************************************\n",
      "                                LNN Model\n",
      "\n",
      "OPEN And: (P1(0) ∧ P2(0)) \n",
      "\n",
      "OPEN Predicate: P2 \n",
      "\n",
      "OPEN Predicate: P1 \n",
      "\n",
      "***************************************************************************\n"
     ]
    }
   ],
   "source": [
    "model.print()"
   ]
  },
  {
   "cell_type": "code",
   "execution_count": 38,
   "metadata": {
    "tags": []
   },
   "outputs": [
    {
     "name": "stdout",
     "output_type": "stream",
     "text": [
      "2.0012715 2.9858377\n"
     ]
    }
   ],
   "source": [
    "maxvel = 0\n",
    "maxangvel = 0\n",
    "for i in range(10000):\n",
    "    env.reset()\n",
    "    while True:\n",
    "        next_state, reward, done, truncated, _ = env.step(0)\n",
    "        if done:\n",
    "            break\n",
    "        if abs(next_state[1]) > maxvel:\n",
    "            maxvel = abs(next_state[1])\n",
    "        if abs(next_state[3]) > maxangvel:\n",
    "            maxangvel = abs(next_state[3])\n",
    "print(maxvel, maxangvel)"
   ]
  },
  {
   "cell_type": "code",
   "execution_count": 32,
   "metadata": {},
   "outputs": [],
   "source": [
    "velocities = np.linspace(-2, 2, 41)\n",
    "angvelocities = np.linspace(-3, 3, 61)\n",
    "pos = np.linspace(-1.2, 1.2, 25)\n",
    "ang = np.linspace(-0.2094395, 0.2094395, 25)"
   ]
  },
  {
   "cell_type": "code",
   "execution_count": 103,
   "metadata": {},
   "outputs": [],
   "source": [
    "LIMIT_DICT = {\n",
    "    \"Position\": [-1.2, 1.2],\n",
    "    \"Velocity\": [-2, 2],\n",
    "    \"Angle\": [-0.2094395, 0.2094395],\n",
    "    \"AngVelocity\": [-3, 3]\n",
    "}\n",
    "\n",
    "BIN_ARGS = {\n",
    "    \"Position\": 10,\n",
    "    \"Velocity\": 10,\n",
    "    \"Angle\": 10,\n",
    "    \"AngVelocity\": 10\n",
    "}\n",
    "BIN_SIZES = {}\n",
    "for key in BIN_ARGS:\n",
    "    BIN_SIZES[key] = LIMIT_DICT[key][1]/BIN_ARGS[key]"
   ]
  },
  {
   "cell_type": "code",
   "execution_count": 112,
   "metadata": {},
   "outputs": [
    {
     "data": {
      "text/plain": [
       "[('Position', True, 1),\n",
       " ('Velocity', True, 1),\n",
       " ('Angle', False, 2),\n",
       " ('AngVelocity', True, 1)]"
      ]
     },
     "execution_count": 112,
     "metadata": {},
     "output_type": "execute_result"
    }
   ],
   "source": [
    "state = env.reset()\n",
    "env2fol(state[0])"
   ]
  },
  {
   "cell_type": "code",
   "execution_count": null,
   "metadata": {},
   "outputs": [],
   "source": []
  },
  {
   "cell_type": "code",
   "execution_count": null,
   "metadata": {},
   "outputs": [],
   "source": []
  },
  {
   "cell_type": "code",
   "execution_count": 192,
   "metadata": {},
   "outputs": [],
   "source": [
    "class LNNCartpole():\n",
    "    def __init__(n_pos, n_vel, n_ang, n_angvel, num_nodes):\n",
    "        predicate_list = []\n",
    "        def create_predicates(n_nodes, name):\n",
    "            for i in range(n_nodes):\n",
    "                predicate_list.append(Predicate(name + str(i+1)))\n",
    "                predicate_list.append(Predicate(name + str(-(i+1))))\n",
    "        return predicate_list\n",
    "\n",
    "        def create_n_ary_and(num_nodes, predicate_list):\n",
    "            and_list = []\n",
    "            for i in range(num_nodes):\n",
    "                and_list.append(And(*predicate_list))\n",
    "            return and_list\n",
    "\n",
    "        def create_n_ary_or(and_list):\n",
    "            return Or(*and_list)\n",
    "\n",
    "        self.model = Model()\n",
    "        self.preds = {\n",
    "            \"Position\": create_predicates(n_pos, \"pos\"),\n",
    "            \"Velocity\": create_predicates(n_vel, \"vel\"),\n",
    "            \"Angle\": create_predicates(n_ang, \"ang\"),\n",
    "            \"AngVelocity\": create_predicates(n_angvel, \"angvel\")\n",
    "        }\n",
    "        self.and_nodes = create_n_ary_and(num_nodes, preds)\n",
    "        self.or_node = create_n_ary_or(and_nodes)\n",
    "\n",
    "        self.model.add_knowledge(*and_nodes, or_node)\n",
    "    def generate_initial_state_dictionary(self, raw_bin_dict):\n",
    "        d = []\n",
    "        for key in self.preds:\n",
    "            arr = [{0: Fact.FALSE}]*(len(self.preds[key])*2)\n",
    "            \n",
    "            positive, value = raw_bin_dict[key]\n",
    "            \n",
    "            index = 2*(val-1) if positive else 2*val-1\n",
    "            arr[index][0] = Fact.TRUE\n",
    "            d.append(dict(zip(self.preds[key], arr)))\n",
    "        res = {**d[0], **d[1], **d[2], **d[3]}\n",
    "        return res\n",
    "            \n",
    "        "
   ]
  },
  {
   "cell_type": "code",
   "execution_count": 116,
   "metadata": {},
   "outputs": [],
   "source": [
    "class FOLCartpoleAgent():\n",
    "    MAXLEN = 10_000\n",
    "    MIN_REPLAY_SIZE = 1_000\n",
    "    BATCH_SIZE = 64\n",
    "    GAMMA = 0.9\n",
    "    LR = 0.01\n",
    "    \n",
    "    def __init__(self, n_bin_args, n_nodes, limits):\n",
    "        self.left_lnn = create_lnn(*n_bin_args, n_nodes)\n",
    "        self.right_lnn = create_lnn(*n_bin_args, n_nodes)\n",
    "        self.limits = limits\n",
    "        self.bin_args = n_bin_args\n",
    "        self.bin_sizes = {}\n",
    "        for key in self.bin_args:\n",
    "            self.bin_sizes[key] = self.limits[key][1]/self.bin_args\n",
    "            \n",
    "        self.replay_memory = collections.deque([], maxlen = self.MAXLEN)\n",
    "        \n",
    "    def env2fol(self, obs):\n",
    "        assert obs.shape == (4,)\n",
    "        obs = Observation(*obs)\n",
    "        ret = {}\n",
    "        for key in self.limits:\n",
    "            val = getattr(obs, key)\n",
    "            positive = (val >= 0)\n",
    "            if positive:\n",
    "                val_bin = math.ceil(val/self.bin_sizes[key])\n",
    "                if val/self.bin_sizes[key] - int(val/self.bin_sizes[key]) == 0:\n",
    "                    val_bin += 1\n",
    "                val_bin = min(val_bin, self.bin_args[key])\n",
    "            else:\n",
    "                val_bin = math.floor(val/self.bin_sizes[key])\n",
    "                val_bin = max(val_bin, -self.bin_args[key])\n",
    "            \n",
    "            ret[key] = (positive, abs(val_bin))\n",
    "        return ret\n",
    "    \n",
    "    def remember(obs):\n",
    "        '''\n",
    "            obs: namedtuple given by (state, action, reward, next_state, done)\n",
    "        '''\n",
    "        self.replay_memory.append(obs)\n",
    "    \n",
    "    def optimize():\n",
    "        if len(self.replay_memory) < self.MIN_REPLAY_SIZE:\n",
    "            return\n",
    "        \n",
    "        "
   ]
  },
  {
   "cell_type": "code",
   "execution_count": null,
   "metadata": {},
   "outputs": [],
   "source": []
  }
 ],
 "metadata": {
  "kernelspec": {
   "display_name": "Python 3 (ipykernel)",
   "language": "python",
   "name": "python3"
  },
  "language_info": {
   "codemirror_mode": {
    "name": "ipython",
    "version": 3
   },
   "file_extension": ".py",
   "mimetype": "text/x-python",
   "name": "python",
   "nbconvert_exporter": "python",
   "pygments_lexer": "ipython3",
   "version": "3.10.8"
  },
  "vscode": {
   "interpreter": {
    "hash": "062d995d26e67c4332b6a2768f2e0b009e9a42fa9ff300fd46ce3432b7193fb5"
   }
  }
 },
 "nbformat": 4,
 "nbformat_minor": 4
}
